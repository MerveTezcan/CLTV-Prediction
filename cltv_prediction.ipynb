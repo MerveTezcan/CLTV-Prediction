{
 "cells": [
  {
   "cell_type": "code",
   "execution_count": 1,
   "id": "ba741e51",
   "metadata": {},
   "outputs": [],
   "source": [
    "# Calling the necessary libraries\n",
    "import datetime as dt\n",
    "import pandas as pd\n",
    "import matplotlib.pyplot as plt\n",
    "from lifetimes import BetaGeoFitter\n",
    "from lifetimes import GammaGammaFitter\n",
    "\n",
    "pd.set_option('display.max_columns', None)\n",
    "pd.set_option('display.width', 500)\n",
    "pd.set_option('display.float_format', lambda x: '%.2f' % x)\n",
    "pd.options.mode.chained_assignment = None"
   ]
  },
  {
   "cell_type": "markdown",
   "id": "f3dedca2",
   "metadata": {},
   "source": [
    "### 1. Business Problem\n",
    "FLO wants to determine a roadmap for its sales and marketing activities. In order for the company to make a medium to long term plan, it is expected to estimate the potential value that existing customers will provide to the company in the future."
   ]
  },
  {
   "cell_type": "markdown",
   "id": "130cda3c",
   "metadata": {},
   "source": [
    "### 2. Dataset Story\n",
    "The data set consists of information obtained from the past shopping behavior of customers who made their last purchases as OmniChannel (both online and offline shoppers) in 2020 - 2021."
   ]
  },
  {
   "cell_type": "markdown",
   "id": "df9cf353",
   "metadata": {},
   "source": [
    "### 3. Features\n",
    "+ master_id - Unique customer identifier\n",
    "+ order_channel - Indication of the platform used for shopping (Android, iOS, Desktop, Mobile)\n",
    "+ last_order_channel - The channel used for the most recent purchase\n",
    "+ first_order_date - Date of the customer's initial purchase\n",
    "+ last_order_date - Date of the customer's most recent purchase\n",
    "+ last_order_date_online - Date of the customer's last online purchase\n",
    "+ last_order_date_offline - Date of the customer's last offline purchase\n",
    "+ order_num_total_ever_online - Total number of purchases made online by the customer\n",
    "+ order_num_total_ever_offline - Total number of purchases made offline by the customer\n",
    "+ customer_value_total_ever_offline - Total amount spent by the customer in offline purchases\n",
    "+ customer_value_total_ever_online - Total amount spent by the customer in online purchases\n",
    "+ interested_in_categories_12 - List of categories in which the customer has made purchases in the last 12 months"
   ]
  },
  {
   "cell_type": "markdown",
   "id": "6ce0e0a6",
   "metadata": {},
   "source": [
    "### 4.Databehandling"
   ]
  },
  {
   "cell_type": "code",
   "execution_count": 2,
   "id": "2911d2a9",
   "metadata": {},
   "outputs": [],
   "source": [
    "df_ = pd.read_csv(\"flo_data_20k.csv\")\n",
    "df = df_.copy()"
   ]
  },
  {
   "cell_type": "code",
   "execution_count": 3,
   "id": "2122992e",
   "metadata": {},
   "outputs": [
    {
     "data": {
      "text/html": [
       "<div>\n",
       "<style scoped>\n",
       "    .dataframe tbody tr th:only-of-type {\n",
       "        vertical-align: middle;\n",
       "    }\n",
       "\n",
       "    .dataframe tbody tr th {\n",
       "        vertical-align: top;\n",
       "    }\n",
       "\n",
       "    .dataframe thead th {\n",
       "        text-align: right;\n",
       "    }\n",
       "</style>\n",
       "<table border=\"1\" class=\"dataframe\">\n",
       "  <thead>\n",
       "    <tr style=\"text-align: right;\">\n",
       "      <th></th>\n",
       "      <th>master_id</th>\n",
       "      <th>order_channel</th>\n",
       "      <th>last_order_channel</th>\n",
       "      <th>first_order_date</th>\n",
       "      <th>last_order_date</th>\n",
       "      <th>last_order_date_online</th>\n",
       "      <th>last_order_date_offline</th>\n",
       "      <th>order_num_total_ever_online</th>\n",
       "      <th>order_num_total_ever_offline</th>\n",
       "      <th>customer_value_total_ever_offline</th>\n",
       "      <th>customer_value_total_ever_online</th>\n",
       "      <th>interested_in_categories_12</th>\n",
       "    </tr>\n",
       "  </thead>\n",
       "  <tbody>\n",
       "    <tr>\n",
       "      <th>0</th>\n",
       "      <td>cc294636-19f0-11eb-8d74-000d3a38a36f</td>\n",
       "      <td>Android App</td>\n",
       "      <td>Offline</td>\n",
       "      <td>2020-10-30</td>\n",
       "      <td>2021-02-26</td>\n",
       "      <td>2021-02-21</td>\n",
       "      <td>2021-02-26</td>\n",
       "      <td>4.00</td>\n",
       "      <td>1.00</td>\n",
       "      <td>139.99</td>\n",
       "      <td>799.38</td>\n",
       "      <td>[KADIN]</td>\n",
       "    </tr>\n",
       "    <tr>\n",
       "      <th>1</th>\n",
       "      <td>f431bd5a-ab7b-11e9-a2fc-000d3a38a36f</td>\n",
       "      <td>Android App</td>\n",
       "      <td>Mobile</td>\n",
       "      <td>2017-02-08</td>\n",
       "      <td>2021-02-16</td>\n",
       "      <td>2021-02-16</td>\n",
       "      <td>2020-01-10</td>\n",
       "      <td>19.00</td>\n",
       "      <td>2.00</td>\n",
       "      <td>159.97</td>\n",
       "      <td>1853.58</td>\n",
       "      <td>[ERKEK, COCUK, KADIN, AKTIFSPOR]</td>\n",
       "    </tr>\n",
       "    <tr>\n",
       "      <th>2</th>\n",
       "      <td>69b69676-1a40-11ea-941b-000d3a38a36f</td>\n",
       "      <td>Android App</td>\n",
       "      <td>Android App</td>\n",
       "      <td>2019-11-27</td>\n",
       "      <td>2020-11-27</td>\n",
       "      <td>2020-11-27</td>\n",
       "      <td>2019-12-01</td>\n",
       "      <td>3.00</td>\n",
       "      <td>2.00</td>\n",
       "      <td>189.97</td>\n",
       "      <td>395.35</td>\n",
       "      <td>[ERKEK, KADIN]</td>\n",
       "    </tr>\n",
       "    <tr>\n",
       "      <th>3</th>\n",
       "      <td>1854e56c-491f-11eb-806e-000d3a38a36f</td>\n",
       "      <td>Android App</td>\n",
       "      <td>Android App</td>\n",
       "      <td>2021-01-06</td>\n",
       "      <td>2021-01-17</td>\n",
       "      <td>2021-01-17</td>\n",
       "      <td>2021-01-06</td>\n",
       "      <td>1.00</td>\n",
       "      <td>1.00</td>\n",
       "      <td>39.99</td>\n",
       "      <td>81.98</td>\n",
       "      <td>[AKTIFCOCUK, COCUK]</td>\n",
       "    </tr>\n",
       "    <tr>\n",
       "      <th>4</th>\n",
       "      <td>d6ea1074-f1f5-11e9-9346-000d3a38a36f</td>\n",
       "      <td>Desktop</td>\n",
       "      <td>Desktop</td>\n",
       "      <td>2019-08-03</td>\n",
       "      <td>2021-03-07</td>\n",
       "      <td>2021-03-07</td>\n",
       "      <td>2019-08-03</td>\n",
       "      <td>1.00</td>\n",
       "      <td>1.00</td>\n",
       "      <td>49.99</td>\n",
       "      <td>159.99</td>\n",
       "      <td>[AKTIFSPOR]</td>\n",
       "    </tr>\n",
       "  </tbody>\n",
       "</table>\n",
       "</div>"
      ],
      "text/plain": [
       "                              master_id order_channel last_order_channel first_order_date last_order_date last_order_date_online last_order_date_offline  order_num_total_ever_online  order_num_total_ever_offline  customer_value_total_ever_offline  customer_value_total_ever_online       interested_in_categories_12\n",
       "0  cc294636-19f0-11eb-8d74-000d3a38a36f   Android App            Offline       2020-10-30      2021-02-26             2021-02-21              2021-02-26                         4.00                          1.00                             139.99                            799.38                           [KADIN]\n",
       "1  f431bd5a-ab7b-11e9-a2fc-000d3a38a36f   Android App             Mobile       2017-02-08      2021-02-16             2021-02-16              2020-01-10                        19.00                          2.00                             159.97                           1853.58  [ERKEK, COCUK, KADIN, AKTIFSPOR]\n",
       "2  69b69676-1a40-11ea-941b-000d3a38a36f   Android App        Android App       2019-11-27      2020-11-27             2020-11-27              2019-12-01                         3.00                          2.00                             189.97                            395.35                    [ERKEK, KADIN]\n",
       "3  1854e56c-491f-11eb-806e-000d3a38a36f   Android App        Android App       2021-01-06      2021-01-17             2021-01-17              2021-01-06                         1.00                          1.00                              39.99                             81.98               [AKTIFCOCUK, COCUK]\n",
       "4  d6ea1074-f1f5-11e9-9346-000d3a38a36f       Desktop            Desktop       2019-08-03      2021-03-07             2021-03-07              2019-08-03                         1.00                          1.00                              49.99                            159.99                       [AKTIFSPOR]"
      ]
     },
     "execution_count": 3,
     "metadata": {},
     "output_type": "execute_result"
    }
   ],
   "source": [
    "df.head()"
   ]
  },
  {
   "cell_type": "code",
   "execution_count": 4,
   "id": "2d95f53a",
   "metadata": {},
   "outputs": [
    {
     "data": {
      "text/plain": [
       "Index(['master_id', 'order_channel', 'last_order_channel', 'first_order_date', 'last_order_date', 'last_order_date_online', 'last_order_date_offline', 'order_num_total_ever_online', 'order_num_total_ever_offline', 'customer_value_total_ever_offline', 'customer_value_total_ever_online', 'interested_in_categories_12'], dtype='object')"
      ]
     },
     "execution_count": 4,
     "metadata": {},
     "output_type": "execute_result"
    }
   ],
   "source": [
    "df.columns"
   ]
  },
  {
   "cell_type": "code",
   "execution_count": 5,
   "id": "6627e2cf",
   "metadata": {},
   "outputs": [
    {
     "data": {
      "text/plain": [
       "(19945, 12)"
      ]
     },
     "execution_count": 5,
     "metadata": {},
     "output_type": "execute_result"
    }
   ],
   "source": [
    "df.shape"
   ]
  },
  {
   "cell_type": "code",
   "execution_count": 6,
   "id": "eccacea4",
   "metadata": {},
   "outputs": [
    {
     "data": {
      "text/html": [
       "<div>\n",
       "<style scoped>\n",
       "    .dataframe tbody tr th:only-of-type {\n",
       "        vertical-align: middle;\n",
       "    }\n",
       "\n",
       "    .dataframe tbody tr th {\n",
       "        vertical-align: top;\n",
       "    }\n",
       "\n",
       "    .dataframe thead th {\n",
       "        text-align: right;\n",
       "    }\n",
       "</style>\n",
       "<table border=\"1\" class=\"dataframe\">\n",
       "  <thead>\n",
       "    <tr style=\"text-align: right;\">\n",
       "      <th></th>\n",
       "      <th>count</th>\n",
       "      <th>mean</th>\n",
       "      <th>std</th>\n",
       "      <th>min</th>\n",
       "      <th>25%</th>\n",
       "      <th>50%</th>\n",
       "      <th>75%</th>\n",
       "      <th>max</th>\n",
       "    </tr>\n",
       "  </thead>\n",
       "  <tbody>\n",
       "    <tr>\n",
       "      <th>order_num_total_ever_online</th>\n",
       "      <td>19945.00</td>\n",
       "      <td>3.11</td>\n",
       "      <td>4.23</td>\n",
       "      <td>1.00</td>\n",
       "      <td>1.00</td>\n",
       "      <td>2.00</td>\n",
       "      <td>4.00</td>\n",
       "      <td>200.00</td>\n",
       "    </tr>\n",
       "    <tr>\n",
       "      <th>order_num_total_ever_offline</th>\n",
       "      <td>19945.00</td>\n",
       "      <td>1.91</td>\n",
       "      <td>2.06</td>\n",
       "      <td>1.00</td>\n",
       "      <td>1.00</td>\n",
       "      <td>1.00</td>\n",
       "      <td>2.00</td>\n",
       "      <td>109.00</td>\n",
       "    </tr>\n",
       "    <tr>\n",
       "      <th>customer_value_total_ever_offline</th>\n",
       "      <td>19945.00</td>\n",
       "      <td>253.92</td>\n",
       "      <td>301.53</td>\n",
       "      <td>10.00</td>\n",
       "      <td>99.99</td>\n",
       "      <td>179.98</td>\n",
       "      <td>319.97</td>\n",
       "      <td>18119.14</td>\n",
       "    </tr>\n",
       "    <tr>\n",
       "      <th>customer_value_total_ever_online</th>\n",
       "      <td>19945.00</td>\n",
       "      <td>497.32</td>\n",
       "      <td>832.60</td>\n",
       "      <td>12.99</td>\n",
       "      <td>149.98</td>\n",
       "      <td>286.46</td>\n",
       "      <td>578.44</td>\n",
       "      <td>45220.13</td>\n",
       "    </tr>\n",
       "  </tbody>\n",
       "</table>\n",
       "</div>"
      ],
      "text/plain": [
       "                                     count   mean    std   min    25%    50%    75%      max\n",
       "order_num_total_ever_online       19945.00   3.11   4.23  1.00   1.00   2.00   4.00   200.00\n",
       "order_num_total_ever_offline      19945.00   1.91   2.06  1.00   1.00   1.00   2.00   109.00\n",
       "customer_value_total_ever_offline 19945.00 253.92 301.53 10.00  99.99 179.98 319.97 18119.14\n",
       "customer_value_total_ever_online  19945.00 497.32 832.60 12.99 149.98 286.46 578.44 45220.13"
      ]
     },
     "execution_count": 6,
     "metadata": {},
     "output_type": "execute_result"
    }
   ],
   "source": [
    "df.describe().T"
   ]
  },
  {
   "cell_type": "code",
   "execution_count": 7,
   "id": "0e22027d",
   "metadata": {},
   "outputs": [
    {
     "name": "stdout",
     "output_type": "stream",
     "text": [
      "<class 'pandas.core.frame.DataFrame'>\n",
      "RangeIndex: 19945 entries, 0 to 19944\n",
      "Data columns (total 12 columns):\n",
      " #   Column                             Non-Null Count  Dtype  \n",
      "---  ------                             --------------  -----  \n",
      " 0   master_id                          19945 non-null  object \n",
      " 1   order_channel                      19945 non-null  object \n",
      " 2   last_order_channel                 19945 non-null  object \n",
      " 3   first_order_date                   19945 non-null  object \n",
      " 4   last_order_date                    19945 non-null  object \n",
      " 5   last_order_date_online             19945 non-null  object \n",
      " 6   last_order_date_offline            19945 non-null  object \n",
      " 7   order_num_total_ever_online        19945 non-null  float64\n",
      " 8   order_num_total_ever_offline       19945 non-null  float64\n",
      " 9   customer_value_total_ever_offline  19945 non-null  float64\n",
      " 10  customer_value_total_ever_online   19945 non-null  float64\n",
      " 11  interested_in_categories_12        19945 non-null  object \n",
      "dtypes: float64(4), object(8)\n",
      "memory usage: 1.8+ MB\n"
     ]
    }
   ],
   "source": [
    "df.info()"
   ]
  },
  {
   "cell_type": "code",
   "execution_count": 8,
   "id": "3b98fb48",
   "metadata": {},
   "outputs": [
    {
     "data": {
      "text/plain": [
       "master_id                            0\n",
       "order_channel                        0\n",
       "last_order_channel                   0\n",
       "first_order_date                     0\n",
       "last_order_date                      0\n",
       "last_order_date_online               0\n",
       "last_order_date_offline              0\n",
       "order_num_total_ever_online          0\n",
       "order_num_total_ever_offline         0\n",
       "customer_value_total_ever_offline    0\n",
       "customer_value_total_ever_online     0\n",
       "interested_in_categories_12          0\n",
       "dtype: int64"
      ]
     },
     "execution_count": 8,
     "metadata": {},
     "output_type": "execute_result"
    }
   ],
   "source": [
    "df.isnull().sum()"
   ]
  },
  {
   "cell_type": "code",
   "execution_count": 9,
   "id": "fdfb4bcb",
   "metadata": {},
   "outputs": [],
   "source": [
    " # Functions required to suppress outliers\n",
    "def outliers_threshold(dataframe,variable):\n",
    "    quartile1 = dataframe[variable].quantile(0.01)\n",
    "    quartile3 = dataframe[variable].quantile(0.99)\n",
    "    interquantile_range = quartile3 - quartile1\n",
    "    up_limit = quartile3 + 1.5 * interquantile_range\n",
    "    low_limit = quartile1 - 1.5 * interquantile_range\n",
    "    return low_limit, up_limit"
   ]
  },
  {
   "cell_type": "code",
   "execution_count": 10,
   "id": "b98d06e8",
   "metadata": {},
   "outputs": [],
   "source": [
    "def replace_with_threshold(dataframe, variable):\n",
    "    low_limit, up_limit = outliers_threshold(dataframe, variable)\n",
    "    dataframe.loc[(dataframe[variable] < low_limit), variable] = round(low_limit, 0)\n",
    "    dataframe.loc[(dataframe[variable] > up_limit), variable] = round(up_limit, 0)"
   ]
  },
  {
   "cell_type": "code",
   "execution_count": 11,
   "id": "039e327d",
   "metadata": {},
   "outputs": [],
   "source": [
    "# Suppression of outliers of “order_num_total_ever_online”, “order_num_total_ever_offline”,\n",
    "# “customer_value_total_ever_offline”, “customer_value_total_ever_online” variables\n",
    "columns = [\"order_num_total_ever_online\",\"order_num_total_ever_offline\",\"customer_value_total_ever_offline\",\"customer_value_total_ever_online\"]\n",
    "\n",
    "for col in columns:\n",
    "    replace_with_threshold(df,col)"
   ]
  },
  {
   "cell_type": "code",
   "execution_count": 12,
   "id": "8a838097",
   "metadata": {},
   "outputs": [],
   "source": [
    "# It is stated that customers shop both online and offline. \n",
    "# Creating new variables for the total number of purchases and expenditures of each customer.\n",
    "df[\"order_num_total\"] = df[\"order_num_total_ever_offline\"] + df[\"order_num_total_ever_online\"]\n",
    "df[\"customer_value_total\"] = df[\"customer_value_total_ever_offline\"] + df[\"customer_value_total_ever_online\"]"
   ]
  },
  {
   "cell_type": "code",
   "execution_count": 13,
   "id": "d81f967c",
   "metadata": {},
   "outputs": [],
   "source": [
    "# Converting the type of date expressing variables to date\n",
    "date_columns = df.columns[df.columns.str.contains(\"date\")]\n",
    "df[date_columns] = df[date_columns].apply(pd.to_datetime)"
   ]
  },
  {
   "cell_type": "markdown",
   "id": "08a076e4",
   "metadata": {},
   "source": [
    "#### 4.1 Creating CLTV Data Structure"
   ]
  },
  {
   "cell_type": "code",
   "execution_count": 14,
   "id": "eff8e374",
   "metadata": {},
   "outputs": [],
   "source": [
    "# Determination of the day of analysis\n",
    "df[\"last_order_date\"].max()\n",
    "analysis_date = dt.datetime(2021, 6, 1)"
   ]
  },
  {
   "cell_type": "code",
   "execution_count": 15,
   "id": "40c5ff10",
   "metadata": {},
   "outputs": [],
   "source": [
    "# Creating a new cltv dataframe with customer_id, recency_cltv_weekly, T_weekly, frequency and monetary_cltv_avg values.\n",
    "cltv_df = pd.DataFrame()\n",
    "cltv_df[\"customer_id\"] = df[\"master_id\"]\n",
    "cltv_df[\"recency_cltv_weekly\"] = (df[\"last_order_date\"] - df[\"first_order_date\"]).dt.days / 7\n",
    "cltv_df[\"T_weekly\"] = (analysis_date - df[\"first_order_date\"]).dt.days / 7\n",
    "cltv_df[\"frequency\"] = df[\"order_num_total\"].astype(int)\n",
    "cltv_df[\"monetary_cltv_avg\"] = df[\"customer_value_total\"] / df[\"order_num_total\"] \n",
    "\n",
    "cltv_df = cltv_df[(cltv_df['frequency'] > 1)]"
   ]
  },
  {
   "cell_type": "code",
   "execution_count": 16,
   "id": "8df9ce9a",
   "metadata": {},
   "outputs": [
    {
     "data": {
      "text/html": [
       "<div>\n",
       "<style scoped>\n",
       "    .dataframe tbody tr th:only-of-type {\n",
       "        vertical-align: middle;\n",
       "    }\n",
       "\n",
       "    .dataframe tbody tr th {\n",
       "        vertical-align: top;\n",
       "    }\n",
       "\n",
       "    .dataframe thead th {\n",
       "        text-align: right;\n",
       "    }\n",
       "</style>\n",
       "<table border=\"1\" class=\"dataframe\">\n",
       "  <thead>\n",
       "    <tr style=\"text-align: right;\">\n",
       "      <th></th>\n",
       "      <th>customer_id</th>\n",
       "      <th>recency_cltv_weekly</th>\n",
       "      <th>T_weekly</th>\n",
       "      <th>frequency</th>\n",
       "      <th>monetary_cltv_avg</th>\n",
       "    </tr>\n",
       "  </thead>\n",
       "  <tbody>\n",
       "    <tr>\n",
       "      <th>0</th>\n",
       "      <td>cc294636-19f0-11eb-8d74-000d3a38a36f</td>\n",
       "      <td>17.00</td>\n",
       "      <td>30.57</td>\n",
       "      <td>5</td>\n",
       "      <td>187.87</td>\n",
       "    </tr>\n",
       "    <tr>\n",
       "      <th>1</th>\n",
       "      <td>f431bd5a-ab7b-11e9-a2fc-000d3a38a36f</td>\n",
       "      <td>209.86</td>\n",
       "      <td>224.86</td>\n",
       "      <td>21</td>\n",
       "      <td>95.88</td>\n",
       "    </tr>\n",
       "    <tr>\n",
       "      <th>2</th>\n",
       "      <td>69b69676-1a40-11ea-941b-000d3a38a36f</td>\n",
       "      <td>52.29</td>\n",
       "      <td>78.86</td>\n",
       "      <td>5</td>\n",
       "      <td>117.06</td>\n",
       "    </tr>\n",
       "    <tr>\n",
       "      <th>3</th>\n",
       "      <td>1854e56c-491f-11eb-806e-000d3a38a36f</td>\n",
       "      <td>1.57</td>\n",
       "      <td>20.86</td>\n",
       "      <td>2</td>\n",
       "      <td>60.98</td>\n",
       "    </tr>\n",
       "    <tr>\n",
       "      <th>4</th>\n",
       "      <td>d6ea1074-f1f5-11e9-9346-000d3a38a36f</td>\n",
       "      <td>83.14</td>\n",
       "      <td>95.43</td>\n",
       "      <td>2</td>\n",
       "      <td>104.99</td>\n",
       "    </tr>\n",
       "  </tbody>\n",
       "</table>\n",
       "</div>"
      ],
      "text/plain": [
       "                            customer_id  recency_cltv_weekly  T_weekly  frequency  monetary_cltv_avg\n",
       "0  cc294636-19f0-11eb-8d74-000d3a38a36f                17.00     30.57          5             187.87\n",
       "1  f431bd5a-ab7b-11e9-a2fc-000d3a38a36f               209.86    224.86         21              95.88\n",
       "2  69b69676-1a40-11ea-941b-000d3a38a36f                52.29     78.86          5             117.06\n",
       "3  1854e56c-491f-11eb-806e-000d3a38a36f                 1.57     20.86          2              60.98\n",
       "4  d6ea1074-f1f5-11e9-9346-000d3a38a36f                83.14     95.43          2             104.99"
      ]
     },
     "execution_count": 16,
     "metadata": {},
     "output_type": "execute_result"
    }
   ],
   "source": [
    "cltv_df.head()"
   ]
  },
  {
   "cell_type": "markdown",
   "id": "b4320c75",
   "metadata": {},
   "source": [
    "#### 4.2 Establishment of BG/NBD, Gamma-Gamma Models Calculation of 6-month CLTV"
   ]
  },
  {
   "cell_type": "code",
   "execution_count": 17,
   "id": "4a186395",
   "metadata": {},
   "outputs": [
    {
     "name": "stderr",
     "output_type": "stream",
     "text": [
      "C:\\Users\\tzcnm\\anaconda3\\Lib\\site-packages\\pandas\\core\\arraylike.py:396: RuntimeWarning: invalid value encountered in sqrt\n",
      "  result = getattr(ufunc, method)(*inputs, **kwargs)\n"
     ]
    },
    {
     "data": {
      "text/plain": [
       "<lifetimes.BetaGeoFitter: fitted with 19945 subjects, a: 0.00, alpha: 76.17, b: 0.00, r: 3.66>"
      ]
     },
     "execution_count": 17,
     "metadata": {},
     "output_type": "execute_result"
    }
   ],
   "source": [
    "# Establishment of BG/NBD Model\n",
    "bgf = BetaGeoFitter(penalizer_coef=0.001)\n",
    "bgf.fit(cltv_df[\"frequency\"],\n",
    "        cltv_df[\"recency_cltv_weekly\"],\n",
    "        cltv_df[\"T_weekly\"])"
   ]
  },
  {
   "cell_type": "code",
   "execution_count": 18,
   "id": "63ece946",
   "metadata": {},
   "outputs": [],
   "source": [
    "# Forecasting expected purchases from customers within 3 months \n",
    "cltv_df[\"expected_sales_3_month\"] = bgf.predict(4*3, cltv_df[\"frequency\"],\n",
    "                                                cltv_df[\"recency_cltv_weekly\"],\n",
    "                                                cltv_df[\"T_weekly\"])"
   ]
  },
  {
   "cell_type": "code",
   "execution_count": 19,
   "id": "0f8163c6",
   "metadata": {},
   "outputs": [],
   "source": [
    "# Forecasting expected purchases from customer within 6 months\n",
    "cltv_df[\"expected_sales_6_month\"] = bgf.predict(4*6, cltv_df[\"frequency\"],\n",
    "                                               cltv_df[\"recency_cltv_weekly\"],\n",
    "                                               cltv_df[\"T_weekly\"])"
   ]
  },
  {
   "cell_type": "code",
   "execution_count": 20,
   "id": "76eb84cc",
   "metadata": {},
   "outputs": [
    {
     "data": {
      "text/plain": [
       "<lifetimes.GammaGammaFitter: fitted with 19945 subjects, p: 4.15, q: 0.47, v: 4.08>"
      ]
     },
     "execution_count": 20,
     "metadata": {},
     "output_type": "execute_result"
    }
   ],
   "source": [
    "# Establishment of Gamma-Gamma Model\n",
    "ggf = GammaGammaFitter(penalizer_coef=0.01)\n",
    "\n",
    "ggf.fit(cltv_df[\"frequency\"],\n",
    "        cltv_df[\"monetary_cltv_avg\"])"
   ]
  },
  {
   "cell_type": "code",
   "execution_count": 21,
   "id": "2ffea915",
   "metadata": {},
   "outputs": [],
   "source": [
    "cltv_df[\"exp_average_value\"] = ggf.conditional_expected_average_profit(cltv_df[\"frequency\"],\n",
    "                                                                       cltv_df[\"monetary_cltv_avg\"])"
   ]
  },
  {
   "cell_type": "code",
   "execution_count": 22,
   "id": "df2565b9",
   "metadata": {},
   "outputs": [
    {
     "data": {
      "text/html": [
       "<div>\n",
       "<style scoped>\n",
       "    .dataframe tbody tr th:only-of-type {\n",
       "        vertical-align: middle;\n",
       "    }\n",
       "\n",
       "    .dataframe tbody tr th {\n",
       "        vertical-align: top;\n",
       "    }\n",
       "\n",
       "    .dataframe thead th {\n",
       "        text-align: right;\n",
       "    }\n",
       "</style>\n",
       "<table border=\"1\" class=\"dataframe\">\n",
       "  <thead>\n",
       "    <tr style=\"text-align: right;\">\n",
       "      <th></th>\n",
       "      <th>customer_id</th>\n",
       "      <th>recency_cltv_weekly</th>\n",
       "      <th>T_weekly</th>\n",
       "      <th>frequency</th>\n",
       "      <th>monetary_cltv_avg</th>\n",
       "      <th>expected_sales_3_month</th>\n",
       "      <th>expected_sales_6_month</th>\n",
       "      <th>exp_average_value</th>\n",
       "    </tr>\n",
       "  </thead>\n",
       "  <tbody>\n",
       "    <tr>\n",
       "      <th>0</th>\n",
       "      <td>cc294636-19f0-11eb-8d74-000d3a38a36f</td>\n",
       "      <td>17.00</td>\n",
       "      <td>30.57</td>\n",
       "      <td>5</td>\n",
       "      <td>187.87</td>\n",
       "      <td>0.97</td>\n",
       "      <td>1.95</td>\n",
       "      <td>193.63</td>\n",
       "    </tr>\n",
       "    <tr>\n",
       "      <th>1</th>\n",
       "      <td>f431bd5a-ab7b-11e9-a2fc-000d3a38a36f</td>\n",
       "      <td>209.86</td>\n",
       "      <td>224.86</td>\n",
       "      <td>21</td>\n",
       "      <td>95.88</td>\n",
       "      <td>0.98</td>\n",
       "      <td>1.97</td>\n",
       "      <td>96.67</td>\n",
       "    </tr>\n",
       "    <tr>\n",
       "      <th>2</th>\n",
       "      <td>69b69676-1a40-11ea-941b-000d3a38a36f</td>\n",
       "      <td>52.29</td>\n",
       "      <td>78.86</td>\n",
       "      <td>5</td>\n",
       "      <td>117.06</td>\n",
       "      <td>0.67</td>\n",
       "      <td>1.34</td>\n",
       "      <td>120.97</td>\n",
       "    </tr>\n",
       "    <tr>\n",
       "      <th>3</th>\n",
       "      <td>1854e56c-491f-11eb-806e-000d3a38a36f</td>\n",
       "      <td>1.57</td>\n",
       "      <td>20.86</td>\n",
       "      <td>2</td>\n",
       "      <td>60.98</td>\n",
       "      <td>0.70</td>\n",
       "      <td>1.40</td>\n",
       "      <td>67.32</td>\n",
       "    </tr>\n",
       "    <tr>\n",
       "      <th>4</th>\n",
       "      <td>d6ea1074-f1f5-11e9-9346-000d3a38a36f</td>\n",
       "      <td>83.14</td>\n",
       "      <td>95.43</td>\n",
       "      <td>2</td>\n",
       "      <td>104.99</td>\n",
       "      <td>0.40</td>\n",
       "      <td>0.79</td>\n",
       "      <td>114.33</td>\n",
       "    </tr>\n",
       "  </tbody>\n",
       "</table>\n",
       "</div>"
      ],
      "text/plain": [
       "                            customer_id  recency_cltv_weekly  T_weekly  frequency  monetary_cltv_avg  expected_sales_3_month  expected_sales_6_month  exp_average_value\n",
       "0  cc294636-19f0-11eb-8d74-000d3a38a36f                17.00     30.57          5             187.87                    0.97                    1.95             193.63\n",
       "1  f431bd5a-ab7b-11e9-a2fc-000d3a38a36f               209.86    224.86         21              95.88                    0.98                    1.97              96.67\n",
       "2  69b69676-1a40-11ea-941b-000d3a38a36f                52.29     78.86          5             117.06                    0.67                    1.34             120.97\n",
       "3  1854e56c-491f-11eb-806e-000d3a38a36f                 1.57     20.86          2              60.98                    0.70                    1.40              67.32\n",
       "4  d6ea1074-f1f5-11e9-9346-000d3a38a36f                83.14     95.43          2             104.99                    0.40                    0.79             114.33"
      ]
     },
     "execution_count": 22,
     "metadata": {},
     "output_type": "execute_result"
    }
   ],
   "source": [
    "cltv_df.head()"
   ]
  },
  {
   "cell_type": "code",
   "execution_count": 23,
   "id": "9b022e73",
   "metadata": {},
   "outputs": [],
   "source": [
    "# Calculate the 6-month CLTV and add it to the dataframe as cltv.\n",
    "\n",
    "cltv = ggf.customer_lifetime_value(bgf,\n",
    "                                   cltv_df['frequency'],\n",
    "                                   cltv_df['recency_cltv_weekly'],\n",
    "                                   cltv_df['T_weekly'],\n",
    "                                   cltv_df['monetary_cltv_avg'],\n",
    "                                   time=6,\n",
    "                                   freq=\"W\",\n",
    "                                   discount_rate=0.01)\n",
    "\n",
    "cltv_df[\"cltv\"] = cltv"
   ]
  },
  {
   "cell_type": "code",
   "execution_count": 24,
   "id": "c49a5e0f",
   "metadata": {},
   "outputs": [
    {
     "data": {
      "text/html": [
       "<div>\n",
       "<style scoped>\n",
       "    .dataframe tbody tr th:only-of-type {\n",
       "        vertical-align: middle;\n",
       "    }\n",
       "\n",
       "    .dataframe tbody tr th {\n",
       "        vertical-align: top;\n",
       "    }\n",
       "\n",
       "    .dataframe thead th {\n",
       "        text-align: right;\n",
       "    }\n",
       "</style>\n",
       "<table border=\"1\" class=\"dataframe\">\n",
       "  <thead>\n",
       "    <tr style=\"text-align: right;\">\n",
       "      <th></th>\n",
       "      <th>customer_id</th>\n",
       "      <th>recency_cltv_weekly</th>\n",
       "      <th>T_weekly</th>\n",
       "      <th>frequency</th>\n",
       "      <th>monetary_cltv_avg</th>\n",
       "      <th>expected_sales_3_month</th>\n",
       "      <th>expected_sales_6_month</th>\n",
       "      <th>exp_average_value</th>\n",
       "      <th>cltv</th>\n",
       "    </tr>\n",
       "  </thead>\n",
       "  <tbody>\n",
       "    <tr>\n",
       "      <th>9055</th>\n",
       "      <td>47a642fe-975b-11eb-8c2a-000d3a38a36f</td>\n",
       "      <td>2.86</td>\n",
       "      <td>7.86</td>\n",
       "      <td>4</td>\n",
       "      <td>1401.80</td>\n",
       "      <td>1.09</td>\n",
       "      <td>2.19</td>\n",
       "      <td>1449.06</td>\n",
       "      <td>3327.78</td>\n",
       "    </tr>\n",
       "    <tr>\n",
       "      <th>13880</th>\n",
       "      <td>7137a5c0-7aad-11ea-8f20-000d3a38a36f</td>\n",
       "      <td>6.14</td>\n",
       "      <td>13.14</td>\n",
       "      <td>11</td>\n",
       "      <td>758.09</td>\n",
       "      <td>1.97</td>\n",
       "      <td>3.94</td>\n",
       "      <td>767.36</td>\n",
       "      <td>3172.39</td>\n",
       "    </tr>\n",
       "    <tr>\n",
       "      <th>17323</th>\n",
       "      <td>f59053e2-a503-11e9-a2fc-000d3a38a36f</td>\n",
       "      <td>51.71</td>\n",
       "      <td>101.00</td>\n",
       "      <td>7</td>\n",
       "      <td>1106.47</td>\n",
       "      <td>0.72</td>\n",
       "      <td>1.44</td>\n",
       "      <td>1127.61</td>\n",
       "      <td>1708.98</td>\n",
       "    </tr>\n",
       "    <tr>\n",
       "      <th>12438</th>\n",
       "      <td>625f40a2-5bd2-11ea-98b0-000d3a38a36f</td>\n",
       "      <td>74.29</td>\n",
       "      <td>74.57</td>\n",
       "      <td>16</td>\n",
       "      <td>501.87</td>\n",
       "      <td>1.57</td>\n",
       "      <td>3.13</td>\n",
       "      <td>506.17</td>\n",
       "      <td>1662.61</td>\n",
       "    </tr>\n",
       "    <tr>\n",
       "      <th>7330</th>\n",
       "      <td>a4d534a2-5b1b-11eb-8dbd-000d3a38a36f</td>\n",
       "      <td>62.71</td>\n",
       "      <td>67.29</td>\n",
       "      <td>52</td>\n",
       "      <td>166.22</td>\n",
       "      <td>4.66</td>\n",
       "      <td>9.31</td>\n",
       "      <td>166.71</td>\n",
       "      <td>1628.89</td>\n",
       "    </tr>\n",
       "  </tbody>\n",
       "</table>\n",
       "</div>"
      ],
      "text/plain": [
       "                                customer_id  recency_cltv_weekly  T_weekly  frequency  monetary_cltv_avg  expected_sales_3_month  expected_sales_6_month  exp_average_value    cltv\n",
       "9055   47a642fe-975b-11eb-8c2a-000d3a38a36f                 2.86      7.86          4            1401.80                    1.09                    2.19            1449.06 3327.78\n",
       "13880  7137a5c0-7aad-11ea-8f20-000d3a38a36f                 6.14     13.14         11             758.09                    1.97                    3.94             767.36 3172.39\n",
       "17323  f59053e2-a503-11e9-a2fc-000d3a38a36f                51.71    101.00          7            1106.47                    0.72                    1.44            1127.61 1708.98\n",
       "12438  625f40a2-5bd2-11ea-98b0-000d3a38a36f                74.29     74.57         16             501.87                    1.57                    3.13             506.17 1662.61\n",
       "7330   a4d534a2-5b1b-11eb-8dbd-000d3a38a36f                62.71     67.29         52             166.22                    4.66                    9.31             166.71 1628.89"
      ]
     },
     "execution_count": 24,
     "metadata": {},
     "output_type": "execute_result"
    }
   ],
   "source": [
    "cltv_df.sort_values(\"cltv\", ascending=False)[:5]"
   ]
  },
  {
   "cell_type": "code",
   "execution_count": 25,
   "id": "1298f7ee",
   "metadata": {},
   "outputs": [
    {
     "data": {
      "text/html": [
       "<div>\n",
       "<style scoped>\n",
       "    .dataframe tbody tr th:only-of-type {\n",
       "        vertical-align: middle;\n",
       "    }\n",
       "\n",
       "    .dataframe tbody tr th {\n",
       "        vertical-align: top;\n",
       "    }\n",
       "\n",
       "    .dataframe thead th {\n",
       "        text-align: right;\n",
       "    }\n",
       "</style>\n",
       "<table border=\"1\" class=\"dataframe\">\n",
       "  <thead>\n",
       "    <tr style=\"text-align: right;\">\n",
       "      <th></th>\n",
       "      <th>customer_id</th>\n",
       "      <th>recency_cltv_weekly</th>\n",
       "      <th>T_weekly</th>\n",
       "      <th>frequency</th>\n",
       "      <th>monetary_cltv_avg</th>\n",
       "      <th>expected_sales_3_month</th>\n",
       "      <th>expected_sales_6_month</th>\n",
       "      <th>exp_average_value</th>\n",
       "      <th>cltv</th>\n",
       "      <th>segment</th>\n",
       "    </tr>\n",
       "  </thead>\n",
       "  <tbody>\n",
       "    <tr>\n",
       "      <th>0</th>\n",
       "      <td>cc294636-19f0-11eb-8d74-000d3a38a36f</td>\n",
       "      <td>17.00</td>\n",
       "      <td>30.57</td>\n",
       "      <td>5</td>\n",
       "      <td>187.87</td>\n",
       "      <td>0.97</td>\n",
       "      <td>1.95</td>\n",
       "      <td>193.63</td>\n",
       "      <td>395.73</td>\n",
       "      <td>A</td>\n",
       "    </tr>\n",
       "    <tr>\n",
       "      <th>1</th>\n",
       "      <td>f431bd5a-ab7b-11e9-a2fc-000d3a38a36f</td>\n",
       "      <td>209.86</td>\n",
       "      <td>224.86</td>\n",
       "      <td>21</td>\n",
       "      <td>95.88</td>\n",
       "      <td>0.98</td>\n",
       "      <td>1.97</td>\n",
       "      <td>96.67</td>\n",
       "      <td>199.43</td>\n",
       "      <td>B</td>\n",
       "    </tr>\n",
       "    <tr>\n",
       "      <th>2</th>\n",
       "      <td>69b69676-1a40-11ea-941b-000d3a38a36f</td>\n",
       "      <td>52.29</td>\n",
       "      <td>78.86</td>\n",
       "      <td>5</td>\n",
       "      <td>117.06</td>\n",
       "      <td>0.67</td>\n",
       "      <td>1.34</td>\n",
       "      <td>120.97</td>\n",
       "      <td>170.22</td>\n",
       "      <td>B</td>\n",
       "    </tr>\n",
       "    <tr>\n",
       "      <th>3</th>\n",
       "      <td>1854e56c-491f-11eb-806e-000d3a38a36f</td>\n",
       "      <td>1.57</td>\n",
       "      <td>20.86</td>\n",
       "      <td>2</td>\n",
       "      <td>60.98</td>\n",
       "      <td>0.70</td>\n",
       "      <td>1.40</td>\n",
       "      <td>67.32</td>\n",
       "      <td>98.95</td>\n",
       "      <td>D</td>\n",
       "    </tr>\n",
       "    <tr>\n",
       "      <th>4</th>\n",
       "      <td>d6ea1074-f1f5-11e9-9346-000d3a38a36f</td>\n",
       "      <td>83.14</td>\n",
       "      <td>95.43</td>\n",
       "      <td>2</td>\n",
       "      <td>104.99</td>\n",
       "      <td>0.40</td>\n",
       "      <td>0.79</td>\n",
       "      <td>114.33</td>\n",
       "      <td>95.01</td>\n",
       "      <td>D</td>\n",
       "    </tr>\n",
       "  </tbody>\n",
       "</table>\n",
       "</div>"
      ],
      "text/plain": [
       "                            customer_id  recency_cltv_weekly  T_weekly  frequency  monetary_cltv_avg  expected_sales_3_month  expected_sales_6_month  exp_average_value   cltv segment\n",
       "0  cc294636-19f0-11eb-8d74-000d3a38a36f                17.00     30.57          5             187.87                    0.97                    1.95             193.63 395.73       A\n",
       "1  f431bd5a-ab7b-11e9-a2fc-000d3a38a36f               209.86    224.86         21              95.88                    0.98                    1.97              96.67 199.43       B\n",
       "2  69b69676-1a40-11ea-941b-000d3a38a36f                52.29     78.86          5             117.06                    0.67                    1.34             120.97 170.22       B\n",
       "3  1854e56c-491f-11eb-806e-000d3a38a36f                 1.57     20.86          2              60.98                    0.70                    1.40              67.32  98.95       D\n",
       "4  d6ea1074-f1f5-11e9-9346-000d3a38a36f                83.14     95.43          2             104.99                    0.40                    0.79             114.33  95.01       D"
      ]
     },
     "execution_count": 25,
     "metadata": {},
     "output_type": "execute_result"
    }
   ],
   "source": [
    "# Creation of Segments According to CLTV\n",
    "\n",
    "cltv_df[\"segment\"]= pd.qcut(cltv_df[\"cltv\"], 4, labels=[\"D\", \"C\", \"B\", \"A\"])\n",
    "\n",
    "cltv_df.head()"
   ]
  },
  {
   "cell_type": "code",
   "execution_count": 26,
   "id": "1bd478f9",
   "metadata": {},
   "outputs": [
    {
     "data": {
      "text/html": [
       "<div>\n",
       "<style scoped>\n",
       "    .dataframe tbody tr th:only-of-type {\n",
       "        vertical-align: middle;\n",
       "    }\n",
       "\n",
       "    .dataframe tbody tr th {\n",
       "        vertical-align: top;\n",
       "    }\n",
       "\n",
       "    .dataframe thead th {\n",
       "        text-align: right;\n",
       "    }\n",
       "</style>\n",
       "<table border=\"1\" class=\"dataframe\">\n",
       "  <thead>\n",
       "    <tr style=\"text-align: right;\">\n",
       "      <th></th>\n",
       "      <th>recency_cltv_weekly</th>\n",
       "      <th>frequency</th>\n",
       "      <th>monetary_cltv_avg</th>\n",
       "      <th>cltv</th>\n",
       "    </tr>\n",
       "    <tr>\n",
       "      <th>segment</th>\n",
       "      <th></th>\n",
       "      <th></th>\n",
       "      <th></th>\n",
       "      <th></th>\n",
       "    </tr>\n",
       "  </thead>\n",
       "  <tbody>\n",
       "    <tr>\n",
       "      <th>A</th>\n",
       "      <td>67.43</td>\n",
       "      <td>6.65</td>\n",
       "      <td>228.83</td>\n",
       "      <td>362.32</td>\n",
       "    </tr>\n",
       "    <tr>\n",
       "      <th>B</th>\n",
       "      <td>81.99</td>\n",
       "      <td>5.09</td>\n",
       "      <td>160.64</td>\n",
       "      <td>199.53</td>\n",
       "    </tr>\n",
       "    <tr>\n",
       "      <th>C</th>\n",
       "      <td>92.63</td>\n",
       "      <td>4.40</td>\n",
       "      <td>125.79</td>\n",
       "      <td>138.31</td>\n",
       "    </tr>\n",
       "    <tr>\n",
       "      <th>D</th>\n",
       "      <td>139.00</td>\n",
       "      <td>3.77</td>\n",
       "      <td>93.15</td>\n",
       "      <td>80.34</td>\n",
       "    </tr>\n",
       "  </tbody>\n",
       "</table>\n",
       "</div>"
      ],
      "text/plain": [
       "         recency_cltv_weekly  frequency  monetary_cltv_avg   cltv\n",
       "segment                                                          \n",
       "A                      67.43       6.65             228.83 362.32\n",
       "B                      81.99       5.09             160.64 199.53\n",
       "C                      92.63       4.40             125.79 138.31\n",
       "D                     139.00       3.77              93.15  80.34"
      ]
     },
     "execution_count": 26,
     "metadata": {},
     "output_type": "execute_result"
    }
   ],
   "source": [
    "# Calculate the mean values of recency, frequency, monetary and CLV by customer segment\n",
    "\n",
    "cltv_df.groupby(\"segment\")[[\"recency_cltv_weekly\", \"frequency\", \"monetary_cltv_avg\", \"cltv\"]].agg(\"mean\").sort_values(by=\"cltv\",\n",
    "                                                                                                                   ascending=False)"
   ]
  },
  {
   "cell_type": "code",
   "execution_count": null,
   "id": "89b5bccc",
   "metadata": {},
   "outputs": [],
   "source": []
  }
 ],
 "metadata": {
  "kernelspec": {
   "display_name": "Python 3 (ipykernel)",
   "language": "python",
   "name": "python3"
  },
  "language_info": {
   "codemirror_mode": {
    "name": "ipython",
    "version": 3
   },
   "file_extension": ".py",
   "mimetype": "text/x-python",
   "name": "python",
   "nbconvert_exporter": "python",
   "pygments_lexer": "ipython3",
   "version": "3.11.5"
  }
 },
 "nbformat": 4,
 "nbformat_minor": 5
}
